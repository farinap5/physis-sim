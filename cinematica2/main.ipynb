{
 "cells": [
  {
   "cell_type": "markdown",
   "metadata": {},
   "source": [
    "# Simulação de Lançamento Com Arrasto\n",
    "\n",
    "Este segundo projeto possui as mesmas características do anterior, visto me `cinematica1/main.ipynb`, no entanto com a adição da força resistiva $R$."
   ]
  },
  {
   "cell_type": "markdown",
   "metadata": {},
   "source": [
    "## Projeto\n",
    "\n",
    "Adicionar arrasto à simulação de balística, movimento do projétil."
   ]
  },
  {
   "cell_type": "markdown",
   "metadata": {},
   "source": [
    "## Código"
   ]
  },
  {
   "cell_type": "code",
   "execution_count": 165,
   "metadata": {},
   "outputs": [],
   "source": [
    "import math\n",
    "import numpy as np\n",
    "import matplotlib.pyplot as plt"
   ]
  },
  {
   "cell_type": "markdown",
   "metadata": {},
   "source": [
    "A partícula sendo lançada com uma angulação menor que $90^{\\circ}$, apresentará uma trajetória não vertical em relação ao solo, analogamente, caso o angulo de lançamento seja de $0^{\\circ}$ podemos designa-lo como um lançamento horigontal.\n",
    "\n",
    "A trajetória acontece com a associação de dois movimentos:\n",
    "- O componente horizontal de movimento;\n",
    "- O componente vertical de movimento.\n",
    "\n",
    "Teremos o componente horizontal como um movimento retilíneo e uniforme, e o componendo vertical como um movimento uniformemente variádo, pois está sujeito às ações da gravidade."
   ]
  },
  {
   "cell_type": "markdown",
   "metadata": {},
   "source": [
    "O corpo é lançado com velocidade inicial $v_i$. Podemos decompor o vetor da velocidade em dois componentes $v_x$ e $v_y$ que são **perpendiculares** entre sí. A partir da velocidade inicial, podemos usar propriedades do triângulo retângulo para descobrir seus catetos (velocidade nos eixos $x$ e $y$), tal que:\n",
    "\n",
    "$$\n",
    "v_x = v_i \\cdot cos\\theta\n",
    "$$"
   ]
  },
  {
   "cell_type": "code",
   "execution_count": 166,
   "metadata": {},
   "outputs": [],
   "source": [
    "def Vx(ang=0, vi=0.0):\n",
    "    a = math.radians(ang)\n",
    "    return vi * math.cos(a)"
   ]
  },
  {
   "cell_type": "markdown",
   "metadata": {},
   "source": [
    "Analogamente com o eixo $y$, porém a componente vertical está sujeita às ações da aceleração da gravidade $g$ com projeção negativas ($-g$). O componente varia com o tempo, de forma que:\n",
    "\n",
    "$$\n",
    "v_y = v_i \\cdot sin \\theta - gt\n",
    "$$"
   ]
  },
  {
   "cell_type": "code",
   "execution_count": 167,
   "metadata": {},
   "outputs": [],
   "source": [
    "def Vy(ang=0, vi=0.0, g=9.81, t=0.0, var=True):\n",
    "    a = math.radians(ang)\n",
    "    v = vi * math.sin(a)\n",
    "    if var:\n",
    "        return v - g*t\n",
    "    else:\n",
    "        return v"
   ]
  },
  {
   "cell_type": "markdown",
   "metadata": {},
   "source": [
    "No eixo da abscissas ($x$) qualquer influência gravitacional é $nula$, portanto o movimento é retilíneo e uniforme. Esse espaço percorrido pela partícula no eixo $x$ (interpretação atual da variação) irá variar em relação eo tempo de observação, de forma crescente e cosntante.\n",
    "\n",
    "$$\n",
    "x(t) = x_i + v_x \\cdot t\n",
    "$$"
   ]
  },
  {
   "cell_type": "code",
   "execution_count": 168,
   "metadata": {},
   "outputs": [],
   "source": [
    "def Px(xi=0.0, vx=0.0, t=0.0):\n",
    "    return xi + vx * t"
   ]
  },
  {
   "cell_type": "markdown",
   "metadata": {},
   "source": [
    "Já o eixo das ordenadas ($y$) a projeção da gavidade $g$ se torna $-g$, e também varia em relação à variação total do tempo.\n",
    "\n",
    "$$\n",
    "y(t) = y_i + v_y \\cdot t - \\frac{gt^{2}}{2}\n",
    "$$"
   ]
  },
  {
   "cell_type": "code",
   "execution_count": 169,
   "metadata": {},
   "outputs": [],
   "source": [
    "def Py(yi=0.0, vy=0.0, g=9.81, t=0.0):\n",
    "    return yi + (vy * t) - ((g * (t**2))/2)"
   ]
  },
  {
   "cell_type": "markdown",
   "metadata": {},
   "source": [
    "Tendo o valor da velocidade em ambos os eixos podemos usar o Teorema de Pitágoras para descobrira o valor da velocidade total, em sua forma vetorial.\n",
    "\n",
    "$$\n",
    "v_t = \\sqrt{v_x^{2}+v_y^{2}}\n",
    "$$"
   ]
  },
  {
   "cell_type": "code",
   "execution_count": 170,
   "metadata": {},
   "outputs": [],
   "source": [
    "def Vt(vx=0.0, vy=0.0):\n",
    "    s = (vx**2) + (vy**2)\n",
    "    return math.sqrt(s)"
   ]
  },
  {
   "cell_type": "markdown",
   "metadata": {},
   "source": [
    "É possivel descobrir o ângulo instantâneo do prejétil em seu curso, aplicando o $arco\\ tangente$ na diferênça da velocidade nos eixos:\n",
    "\n",
    "$$\n",
    "\\theta = arc tg \\frac{v_y}{v_x}\n",
    "$$"
   ]
  },
  {
   "cell_type": "code",
   "execution_count": 171,
   "metadata": {},
   "outputs": [],
   "source": [
    "def Ang(vx=0.0, vy=0.0):\n",
    "    return math.atan(vy/vx)"
   ]
  },
  {
   "cell_type": "markdown",
   "metadata": {},
   "source": [
    "## Força Resistiva\n",
    "\n",
    "A **força resistiva** será proporcional a velocidade, para calculá-la é necessário que tenhamos algumas propriedades do objeto/projétil e do ambiente por onde viaja, como:\n",
    "\n",
    "- $D$ Coeficiente de arrasto.\n",
    "- $P$ Densidade do ar.\n",
    "- $A$ Area de seção transversal.\n",
    "- $v$ Velocidade do projétil.\n",
    "\n",
    "$$\n",
    "R = \\frac{1}{2} \\cdot D \\cdot P \\cdot A \\cdot v^{2}\n",
    "$$\n",
    "\n",
    "A formula nos retornará a força de atriarrasto que é o vetor da aceleração, que é contrária à velocidade.\n",
    "\n",
    "No caso do código, já declaro as variáveis, que podem ser mudadas devido alguma necessidade."
   ]
  },
  {
   "cell_type": "code",
   "execution_count": 172,
   "metadata": {},
   "outputs": [],
   "source": [
    "def Resis(d=0.47, p=1.21, a=0.8, v=0.0):\n",
    "    r = 0.5 * d * p * a * (v ** 2)\n",
    "    return r"
   ]
  },
  {
   "cell_type": "markdown",
   "metadata": {},
   "source": [
    "Aceleração nas componentes $x$ e $y$, nesse caso se trata da aceleração contraria com a aplicação da força resistiva, que irá impactar a velocidade do projétil. $m$ é igual a massa do projétil e $R$ a **força resistiva**.\n",
    "\n",
    "$$\n",
    "a_x = -\\frac{(R \\cdot cos\\theta)}{m}\n",
    "$$\n",
    "\n",
    "No calculo da aceleração na componente $y$ adicionamos a aceleração da gravidade.\n",
    "\n",
    "$$\n",
    "a_y = - g - \\frac{(R \\cdot sin\\theta)}{m}\n",
    "$$"
   ]
  },
  {
   "cell_type": "code",
   "execution_count": 173,
   "metadata": {},
   "outputs": [],
   "source": [
    "def Ax(R=0.0, m=10, ang=0.0):\n",
    "    a = math.radians(ang)\n",
    "    return -(R * np.cos(ang))/m\n",
    "\n",
    "def Ay(R=0.0, m=10, ang=0.0, g=9.81):\n",
    "    a = math.radians(ang)\n",
    "    return -g-(R * np.sin(ang))/m"
   ]
  },
  {
   "cell_type": "markdown",
   "metadata": {},
   "source": [
    "Com o dado da aceleração é possível ter a velocidade em função do tempo, dessa forma teremos a velocidade no eixo $x$ e $y$. As variáveis $V_{xi}$ e $V_{yi}$ são valores iniciais da velicidade, ou valores anteriores.\n",
    "\n",
    "$$\n",
    "V_x = V_{xi} + a \\cdot t\n",
    "$$\n",
    "\n",
    "$$\n",
    "V_y = V_{yi} + a \\cdot t\n",
    "$$"
   ]
  },
  {
   "cell_type": "markdown",
   "metadata": {},
   "source": [
    "Nesse caso, quando utilizamos algo como uma variação em relação a força da gravidade juntamente do arrasto produzido pelo fluido, como o ar, teremos que sempre atualizar os valores em relação ao anterior, portante deve-se criar uma lista para cada variável, onde os resultados anteriores poderão ser consultados."
   ]
  },
  {
   "cell_type": "markdown",
   "metadata": {},
   "source": [
    "## Compilação das Funcões\n",
    "\n",
    "Variáveis que serão baseadas para descrever as propriedades do movimento da particola."
   ]
  },
  {
   "cell_type": "code",
   "execution_count": 174,
   "metadata": {},
   "outputs": [],
   "source": [
    "ang = 70 # Angulo de lançamento\n",
    "vi  = 13 # Velocidade inicial\n",
    "m = 5\n",
    "\n",
    "init = 0.0\n",
    "end  = 3.0\n",
    "# end  = 2.8301"
   ]
  },
  {
   "cell_type": "markdown",
   "metadata": {},
   "source": [
    "Tabela com alguns valores intermediários que descrevem o movimento."
   ]
  },
  {
   "cell_type": "code",
   "execution_count": 175,
   "metadata": {},
   "outputs": [
    {
     "name": "stdout",
     "output_type": "stream",
     "text": [
      "Tabela de posições sem considerar massa e restistencia do ar.\n",
      "   Time       X       Y      Vx      Vy  VTotal     Ang\n",
      "----------------------------------------------------------\n",
      "  0.000   0.000   0.000   4.446  12.216  13.000  70.000\n",
      "  0.333   1.482   3.527   4.446   8.946   9.990  63.572\n",
      "  0.667   2.964   5.964   4.446   5.676   7.210  51.927\n",
      "  1.000   4.446   7.311   4.446   2.406   5.056  28.419\n",
      "  1.333   5.928   7.568   4.446  -0.864   4.529 -10.997\n",
      "  1.667   7.410   6.735   4.446  -4.134   6.071 -42.916\n",
      "  2.000   8.893   4.812   4.446  -7.404   8.636 -59.014\n",
      "  2.333  10.375   1.799   4.446 -10.674  11.563 -67.386\n",
      "  2.667  11.857  -2.304   4.446 -13.944  14.636 -72.314\n",
      "  3.000  13.339  -7.497   4.446 -17.214  17.779 -75.517\n"
     ]
    }
   ],
   "source": [
    "print(\"Tabela de posições sem considerar massa e restistencia do ar.\")\n",
    "print(\"   Time       X       Y      Vx      Vy  VTotal     Ang\")\n",
    "print(\"----------------------------------------------------------\")\n",
    "for i in np.linspace(init, end,dtype=float, num=10):\n",
    "    vx = Vx(ang=ang,vi=vi)\n",
    "    vy = Vy(ang=ang,vi=vi,t=i)\n",
    "    vt = Vt(vx=vx,vy=vy)\n",
    "\n",
    "    px = Px(vx=vx,t=i)\n",
    "    py = Py(vy=Vy(ang=ang,vi=vi,t=i,var=False),t=i)\n",
    "    ag = Ang(vx=vx, vy=vy)\n",
    "\n",
    "    print(\"{t:7.3f} {x:7.3f} {y:7.3f} {vx:7.3f} {vy:7.3f} {vt:7.3f} {a:7.3f}\".format(\n",
    "        t = i,\n",
    "        x = px,\n",
    "        y = py,\n",
    "        vx = vx,\n",
    "        vy = vy,\n",
    "        vt = vt,\n",
    "        a = np.degrees(ag)\n",
    "    ))"
   ]
  },
  {
   "cell_type": "code",
   "execution_count": 176,
   "metadata": {},
   "outputs": [
    {
     "name": "stdout",
     "output_type": "stream",
     "text": [
      "Tabela de posições considerando a massa, a restistencia do ar e a aceleração contrária.\n",
      "Massa é igual a 10\n",
      "   Time       X       Y      Vx      Vy  VTotal      ax      ay     Ang\n",
      "-------------------------------------------------------------------------\n",
      "  0.000   0.000   0.000   4.446  12.216  13.000  -2.435 -12.785  70.000\n",
      "  0.011   0.049   0.136   4.419  12.074  12.857  -2.382 -12.720  70.000\n",
      "  0.022   0.148   0.404   4.366  11.791  12.574  -2.278 -12.593  69.897\n",
      "  0.033   0.293   0.797   4.290  11.372  12.154  -2.128 -12.411  69.681\n",
      "  0.044   0.484   1.302   4.196  10.820  11.605  -1.940 -12.181  69.329\n",
      "  0.056   0.717   1.904   4.088  10.143  10.936  -1.723 -11.915  68.805\n",
      "  0.067   0.989   2.580   3.973   9.349  10.158  -1.487 -11.627  68.049\n",
      "  0.078   1.298   3.307   3.857   8.445   9.284  -1.242 -11.327  66.975\n",
      "  0.089   1.641   4.058   3.747   7.438   8.328  -0.999 -11.031  65.449\n",
      "  0.100   2.016   4.801   3.647   6.335   7.310  -0.770 -10.751  63.261\n"
     ]
    }
   ],
   "source": [
    "x = np.array([0])\n",
    "y = np.array([0])\n",
    "\n",
    "vx = np.array([Vx(ang=ang,vi=vi)])\n",
    "vy = np.array([Vy(ang=ang,vi=vi,var=False)])\n",
    "\n",
    "r = Resis(v=vi)\n",
    "ax = np.array([Ax(R=r)])\n",
    "ay = np.array([Ay(R=r)])\n",
    "\n",
    "c = 0\n",
    "print(\"Tabela de posições considerando a massa, a restistencia do ar e a aceleração contrária.\")\n",
    "print(\"Massa é igual a 10\")\n",
    "print(\"   Time       X       Y      Vx      Vy  VTotal      ax      ay     Ang\")\n",
    "print(\"-------------------------------------------------------------------------\")\n",
    "for i in np.linspace(init,0.1,dtype=float,num=10):\n",
    "    vx = np.append(vx, vx[c] + i * ax[c]) # vx = vxi + t * a\n",
    "    vy = np.append(vy, vy[c] + i * ay[c]) # vy = vyi + t * a\n",
    "\n",
    "    x = np.append(x, x[c] + i * vx[c]) # x = xi + t * vx\n",
    "    y = np.append(y, y[c] + i * vy[c]) # y = yi + t * vy\n",
    "    \n",
    "    vt = Vt(vx=vx[c+1], vy=vy[c+1])\n",
    "    R = Resis(v=vt)\n",
    "    ax = np.append(ax,Ax(R=R, ang=ang))\n",
    "    ay = np.append(ay,Ay(R=R, ang=ang))\n",
    "    ag = Ang(vx=vx[c], vy=vy[c])\n",
    "    c = c + 1\n",
    "    \n",
    "    print(\"{t:7.3f} {x:7.3f} {y:7.3f} {vx:7.3f} {vy:7.3f} {vt:7.3f} {ax:7.3f} {ay:7.3f} {a:7.3f}\".format(\n",
    "        t = i,\n",
    "        x = x[c],\n",
    "        y = y[c],\n",
    "        vx = vx[c],\n",
    "        vy = vy[c],\n",
    "        vt = vt,\n",
    "        ax = ax[c],\n",
    "        ay = ay[c],\n",
    "        a = np.degrees(ag)\n",
    "    ))"
   ]
  },
  {
   "cell_type": "code",
   "execution_count": 177,
   "metadata": {},
   "outputs": [],
   "source": [
    "x = np.array([0])\n",
    "y = np.array([0])\n",
    "vt = np.array([0])\n",
    "\n",
    "for i in np.linspace(init,end,dtype=float,num=50):\n",
    "    vx = Vx(ang=ang,vi=vi)\n",
    "    vy = Vy(ang=ang,vi=vi,t=i)\n",
    "    px = Px(vx=vx,t=i)\n",
    "    py = Py(vy=Vy(ang=ang,vi=vi,t=i, var=False),t=i)\n",
    "    if py < 0:\n",
    "        break\n",
    "    x = np.append(x,px)\n",
    "    y = np.append(y,py)\n",
    "    vt = np.append(vt,Vt(vx=vx,vy=vy))\n",
    "\n",
    "tmpx = x\n",
    "tmpy = y\n",
    "tmpvt = vt"
   ]
  },
  {
   "cell_type": "markdown",
   "metadata": {},
   "source": [
    "O seguinte código irá criar a curva da movimentação do projétil com a aplicação do arrasto."
   ]
  },
  {
   "cell_type": "code",
   "execution_count": 178,
   "metadata": {},
   "outputs": [],
   "source": [
    "x = np.array([0])\n",
    "y = np.array([0])\n",
    "\n",
    "vx = np.array([Vx(ang=ang,vi=vi)])\n",
    "vy = np.array([Vy(ang=ang,vi=vi,var=False)])\n",
    "\n",
    "r = Resis(v=vi)\n",
    "ax = np.array([Ax(R=r)])\n",
    "ay = np.array([Ay(R=r)])\n",
    "\n",
    "c = 0\n",
    "for i in np.linspace(init,0.1,dtype=float,num=50):\n",
    "    vx = np.append(vx, vx[c] + i * ax[c]) # vx = vxi + t * a\n",
    "    vy = np.append(vy, vy[c] + i * ay[c]) # vy = vyi + t * a\n",
    "\n",
    "    x = np.append(x, x[c] + i * vx[c]) # x = xi + t * vx\n",
    "    y = np.append(y, y[c] + i * vy[c]) # y = yi + t * vy\n",
    "    \n",
    "    vt = Vt(vx=vx[c+1], vy=vy[c+1])\n",
    "    R = Resis(v=vt)\n",
    "    ax = np.append(ax,Ax(R=R, ang=ang))\n",
    "    ay = np.append(ay,Ay(R=R, ang=ang))\n",
    "    c = c + 1"
   ]
  },
  {
   "cell_type": "markdown",
   "metadata": {},
   "source": [
    "Criando uma figura a partir dos dados coletados."
   ]
  },
  {
   "cell_type": "code",
   "execution_count": 179,
   "metadata": {},
   "outputs": [
    {
     "data": {
      "image/png": "[encoded data removed]",
      "text/plain": [
       "<Figure size 1000x700 with 1 Axes>"
      ]
     },
     "metadata": {},
     "output_type": "display_data"
    }
   ],
   "source": [
    "fig, ax = plt.subplots()\n",
    "fig.set_size_inches(10,7)\n",
    "ax.plot(tmpx,tmpy, label=\"Posição sem Arrasto\")\n",
    "ax.plot(x,y, label=\"Posição com Arrasto\")\n",
    "ax.set_title(\"Gráfico do Movimento y/x\")\n",
    "ax.set_xlabel(\"Posição em X\")\n",
    "ax.set_ylabel(\"Posição em Y\")\n",
    "ax.legend()\n",
    "plt.xticks(range(0, 15))\n",
    "plt.yticks(range(0, 20, 1))\n",
    "plt.show()"
   ]
  }
 ],
 "metadata": {
  "kernelspec": {
   "display_name": "Python 3.8.10 64-bit",
   "language": "python",
   "name": "python3"
  },
  "language_info": {
   "codemirror_mode": {
    "name": "ipython",
    "version": 3
   },
   "file_extension": ".py",
   "mimetype": "text/x-python",
   "name": "python",
   "nbconvert_exporter": "python",
   "pygments_lexer": "ipython3",
   "version": "3.8.10"
  },
  "orig_nbformat": 4,
  "vscode": {
   "interpreter": {
    "hash": "916dbcbb3f70747c44a77c7bcd40155683ae19c65e1c03b4aa3499c5328201f1"
   }
  }
 },
 "nbformat": 4,
 "nbformat_minor": 2
}
