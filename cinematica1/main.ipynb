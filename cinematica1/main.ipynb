{
 "cells": [
  {
   "cell_type": "markdown",
   "metadata": {},
   "source": [
    "# Simulação de Lançamento\n",
    "\n",
    "Estudando eventos físicos do lançamento de um projétil.\n",
    "\n",
    "## Introdução\n",
    "\n",
    "Podemos endender o lançamento de um projétil como qualquer movimento não vertical, que está sujeito às ações de algumas forças naturais, tal como a própria **gravidade**.\n",
    "\n",
    "Neste caso, temos a resistencia do ar sendo considerada desprezível, e então não entrará em equação.\n",
    "\n",
    "O movimento será tratado em duas dimenções, então podemos representálo em um plano cartesiano."
   ]
  },
  {
   "cell_type": "markdown",
   "metadata": {},
   "source": [
    "## Projeto\n",
    "\n",
    "Considerando as informações que discutimos em sala de aula nos dias 25/08/2022 e 01/09/2022, montem uma simulação capaz de descrever o lançamento balistico de um projetil de velocidade inicial $v_0$ e ângulo de lançamento theta ($\\theta$).\n",
    "\n",
    "Os dados de saida devem ser apresentados numa tabela com as colunas de tempo, posição $X$, posição $Y$, componente  horizontal da velocidade $v_x$, componente vertical da velocidade $v_y$, velocidade total $v_t$ e ângulo da velocidade alpha."
   ]
  },
  {
   "cell_type": "markdown",
   "metadata": {},
   "source": [
    "## Código"
   ]
  },
  {
   "cell_type": "code",
   "execution_count": 81,
   "metadata": {},
   "outputs": [],
   "source": [
    "import math\n",
    "import numpy as np\n",
    "import matplotlib.pyplot as plt"
   ]
  },
  {
   "cell_type": "markdown",
   "metadata": {},
   "source": [
    "A partícula sendo lançada com uma angulação menor que $90^{\\circ}$, apresentará uma trajetória não vertical em relação ao solo, analogamente, caso o angulo de lançamento seja de $0^{\\circ}$ podemos designa-lo como um lançamento horigontal.\n",
    "\n",
    "A trajetória acontece com a associação de dois movimentos:\n",
    "- O componente horizontal de movimento;\n",
    "- O componente vertical de movimento.\n",
    "\n",
    "Teremos o componente horizontal como um movimento retilíneo e uniforme, e o componendo vertical como um movimento uniformemente variádo, pois está sujeito às ações da gravidade."
   ]
  },
  {
   "cell_type": "markdown",
   "metadata": {},
   "source": [
    "O corpo é lançado com velocidade inicial $v_i$. Podemos decompor o vetor da velocidade em dois componentes $v_x$ e $v_y$ que são **perpendiculares** entre sí. A partir da velocidade inicial, podemos usar propriedades do triângulo retângulo para descobrir seus catetos (velocidade nos eixos $x$ e $y$), tal que:\n",
    "\n",
    "$$\n",
    "v_x = v_i \\cdot cos\\theta\n",
    "$$"
   ]
  },
  {
   "cell_type": "code",
   "execution_count": 82,
   "metadata": {},
   "outputs": [],
   "source": [
    "def Vx(ang=0, vi=0.0):\n",
    "    a = math.radians(ang)\n",
    "    return vi * math.cos(a)"
   ]
  },
  {
   "cell_type": "markdown",
   "metadata": {},
   "source": [
    "Analogamente com o eixo $y$, porém a componente vertical está sujeita às ações da aceleração da gravidade $g$ com projeção negativas ($-g$). O componente varia com o tempo, de forma que:\n",
    "\n",
    "$$\n",
    "v_y = v_i \\cdot sin \\theta - gt\n",
    "$$"
   ]
  },
  {
   "cell_type": "code",
   "execution_count": 83,
   "metadata": {},
   "outputs": [],
   "source": [
    "def Vy(ang=0, vi=0.0, g=9.81, t=0.0, var=True):\n",
    "    a = math.radians(ang)\n",
    "    v = vi * math.sin(a)\n",
    "    if var:\n",
    "        return v - g*t\n",
    "    else:\n",
    "        return v"
   ]
  },
  {
   "cell_type": "markdown",
   "metadata": {},
   "source": [
    "No eixo da abscissas ($x$) qualquer influência gravitacional é $nula$, portanto o movimento é retilíneo e uniforme. Esse espaço percorrido pela partícula no eixo $x$ (interpretação atual da variação) irá variar em relação eo tempo de observação, de forma crescente e cosntante.\n",
    "\n",
    "$$\n",
    "x(t) = x_i + v_x \\cdot t\n",
    "$$"
   ]
  },
  {
   "cell_type": "code",
   "execution_count": 84,
   "metadata": {},
   "outputs": [],
   "source": [
    "def Px(xi=0.0, vx=0.0, t=0.0):\n",
    "    return xi + vx * t"
   ]
  },
  {
   "cell_type": "markdown",
   "metadata": {},
   "source": [
    "Já o eixo das ordenadas ($y$) a projeção da gavidade $g$ se torna $-g$, e também varia em relação à variação total do tempo.\n",
    "\n",
    "$$\n",
    "y(t) = y_i + v_y \\cdot t - \\frac{gt^{2}}{2}\n",
    "$$"
   ]
  },
  {
   "cell_type": "code",
   "execution_count": 85,
   "metadata": {},
   "outputs": [],
   "source": [
    "def Py(yi=0.0, vy=0.0, g=9.81, t=0.0):\n",
    "    #print(yi, vy, g, t)\n",
    "    return yi + (vy * t) - ((g * (t**2))/2)"
   ]
  },
  {
   "cell_type": "markdown",
   "metadata": {},
   "source": [
    "Tendo o valor da velocidade em ambos os eixos podemos usar o Teorema de Pitágoras para descobrira o valor da velocidade total, em sua forma vetorial.\n",
    "\n",
    "$$\n",
    "v_t = \\sqrt{v_x^{2}+v_y^{2}}\n",
    "$$"
   ]
  },
  {
   "cell_type": "code",
   "execution_count": 86,
   "metadata": {},
   "outputs": [],
   "source": [
    "def Vt(vx=0.0, vy=0.0):\n",
    "    s = (vx**2) + (vy**2)\n",
    "    return math.sqrt(s)"
   ]
  },
  {
   "cell_type": "markdown",
   "metadata": {},
   "source": [
    "É possivel descobrir o ângulo instantâneo do prejétil em seu curso, aplicando o $arco\\ tangente$ na diferênça da velocidade nos eixos:\n",
    "\n",
    "$$\n",
    "\\theta = arc tg \\frac{v_y}{v_x}\n",
    "$$"
   ]
  },
  {
   "cell_type": "code",
   "execution_count": 87,
   "metadata": {},
   "outputs": [],
   "source": [
    "def Ang(vx=0.0, vy=0.0):\n",
    "    return math.atan(vy/vx)"
   ]
  },
  {
   "cell_type": "markdown",
   "metadata": {},
   "source": [
    "Variáveis que serão baseadas para descrever as propriedades do movimento da particola."
   ]
  },
  {
   "cell_type": "code",
   "execution_count": 88,
   "metadata": {},
   "outputs": [],
   "source": [
    "ang = 70 # Angulo de lançamento\n",
    "vi  = 13 # Velocidade inicial\n",
    "\n",
    "init = 0.0\n",
    "end  = 3.0\n",
    "# end  = 2.8301"
   ]
  },
  {
   "cell_type": "markdown",
   "metadata": {},
   "source": [
    "Tabela com alguns valores intermediários que descrevem o movimento."
   ]
  },
  {
   "cell_type": "code",
   "execution_count": 89,
   "metadata": {},
   "outputs": [
    {
     "name": "stdout",
     "output_type": "stream",
     "text": [
      "   Time       X       Y      Vx      Vy  VTotal     Ang\n",
      "----------------------------------------------------------\n",
      "  0.000   0.000   0.000   4.446  12.216  13.000  70.000\n",
      "  0.333   1.482   3.527   4.446   8.946   9.990  63.572\n",
      "  0.667   2.964   5.964   4.446   5.676   7.210  51.927\n",
      "  1.000   4.446   7.311   4.446   2.406   5.056  28.419\n",
      "  1.333   5.928   7.568   4.446  -0.864   4.529 -10.997\n",
      "  1.667   7.410   6.735   4.446  -4.134   6.071 -42.916\n",
      "  2.000   8.893   4.812   4.446  -7.404   8.636 -59.014\n",
      "  2.333  10.375   1.799   4.446 -10.674  11.563 -67.386\n",
      "  2.667  11.857  -2.304   4.446 -13.944  14.636 -72.314\n",
      "  3.000  13.339  -7.497   4.446 -17.214  17.779 -75.517\n"
     ]
    }
   ],
   "source": [
    "print(\"   Time       X       Y      Vx      Vy  VTotal     Ang\")\n",
    "print(\"----------------------------------------------------------\")\n",
    "for i in np.linspace(init, end,dtype=float, num=10):\n",
    "    vx = Vx(ang=ang,vi=vi)\n",
    "    vy = Vy(ang=ang,vi=vi,t=i)\n",
    "    vt = Vt(vx=vx,vy=vy)\n",
    "\n",
    "    px = Px(vx=vx,t=i)\n",
    "    py = Py(vy=Vy(ang=ang,vi=vi,t=i,var=False),t=i)\n",
    "    ag = Ang(vx=vx, vy=vy)\n",
    "\n",
    "    print(\"{t:7.3f} {x:7.3f} {y:7.3f} {vx:7.3f} {vy:7.3f} {vt:7.3f} {a:7.3f}\".format(\n",
    "        t = i,\n",
    "        x = px,\n",
    "        y = py,\n",
    "        vx = vx,\n",
    "        vy = vy,\n",
    "        vt = vt,\n",
    "        a = np.degrees(ag)\n",
    "    ))"
   ]
  },
  {
   "cell_type": "code",
   "execution_count": 102,
   "metadata": {},
   "outputs": [
    {
     "ename": "ValueError",
     "evalue": "x and y must have same first dimension, but have shapes (50,) and (42,)",
     "output_type": "error",
     "traceback": [
      "\u001b[0;31m---------------------------------------------------------------------------\u001b[0m",
      "\u001b[0;31mValueError\u001b[0m                                Traceback (most recent call last)",
      "\u001b[1;32m/home/farinap/python/fisica/cinematica1/main.ipynb Cell 22\u001b[0m in \u001b[0;36m<cell line: 20>\u001b[0;34m()\u001b[0m\n\u001b[1;32m     <a href='vscode-notebook-cell://wsl%2Bubuntu/home/farinap/python/fisica/cinematica1/main.ipynb#X23sdnNjb2RlLXJlbW90ZQ%3D%3D?line=17'>18</a>\u001b[0m fig\u001b[39m.\u001b[39mset_size_inches(\u001b[39m10\u001b[39m,\u001b[39m7\u001b[39m);\n\u001b[1;32m     <a href='vscode-notebook-cell://wsl%2Bubuntu/home/farinap/python/fisica/cinematica1/main.ipynb#X23sdnNjb2RlLXJlbW90ZQ%3D%3D?line=18'>19</a>\u001b[0m ax\u001b[39m.\u001b[39mplot(x,y)\n\u001b[0;32m---> <a href='vscode-notebook-cell://wsl%2Bubuntu/home/farinap/python/fisica/cinematica1/main.ipynb#X23sdnNjb2RlLXJlbW90ZQ%3D%3D?line=19'>20</a>\u001b[0m ax\u001b[39m.\u001b[39;49mplot(r,vt)\n\u001b[1;32m     <a href='vscode-notebook-cell://wsl%2Bubuntu/home/farinap/python/fisica/cinematica1/main.ipynb#X23sdnNjb2RlLXJlbW90ZQ%3D%3D?line=20'>21</a>\u001b[0m ax\u001b[39m.\u001b[39mset_title(\u001b[39m\"\u001b[39m\u001b[39mGráfico do Movimento y/x\u001b[39m\u001b[39m\"\u001b[39m);\n\u001b[1;32m     <a href='vscode-notebook-cell://wsl%2Bubuntu/home/farinap/python/fisica/cinematica1/main.ipynb#X23sdnNjb2RlLXJlbW90ZQ%3D%3D?line=21'>22</a>\u001b[0m ax\u001b[39m.\u001b[39mset_xlabel(\u001b[39m\"\u001b[39m\u001b[39mPosição em X\u001b[39m\u001b[39m\"\u001b[39m);\n",
      "File \u001b[0;32m~/.local/lib/python3.8/site-packages/matplotlib/axes/_axes.py:1635\u001b[0m, in \u001b[0;36mAxes.plot\u001b[0;34m(self, scalex, scaley, data, *args, **kwargs)\u001b[0m\n\u001b[1;32m   1393\u001b[0m \u001b[39m\"\"\"\u001b[39;00m\n\u001b[1;32m   1394\u001b[0m \u001b[39mPlot y versus x as lines and/or markers.\u001b[39;00m\n\u001b[1;32m   1395\u001b[0m \n\u001b[0;32m   (...)\u001b[0m\n\u001b[1;32m   1632\u001b[0m \u001b[39m(``'green'``) or hex strings (``'#008000'``).\u001b[39;00m\n\u001b[1;32m   1633\u001b[0m \u001b[39m\"\"\"\u001b[39;00m\n\u001b[1;32m   1634\u001b[0m kwargs \u001b[39m=\u001b[39m cbook\u001b[39m.\u001b[39mnormalize_kwargs(kwargs, mlines\u001b[39m.\u001b[39mLine2D)\n\u001b[0;32m-> 1635\u001b[0m lines \u001b[39m=\u001b[39m [\u001b[39m*\u001b[39m\u001b[39mself\u001b[39m\u001b[39m.\u001b[39m_get_lines(\u001b[39m*\u001b[39margs, data\u001b[39m=\u001b[39mdata, \u001b[39m*\u001b[39m\u001b[39m*\u001b[39mkwargs)]\n\u001b[1;32m   1636\u001b[0m \u001b[39mfor\u001b[39;00m line \u001b[39min\u001b[39;00m lines:\n\u001b[1;32m   1637\u001b[0m     \u001b[39mself\u001b[39m\u001b[39m.\u001b[39madd_line(line)\n",
      "File \u001b[0;32m~/.local/lib/python3.8/site-packages/matplotlib/axes/_base.py:312\u001b[0m, in \u001b[0;36m_process_plot_var_args.__call__\u001b[0;34m(self, data, *args, **kwargs)\u001b[0m\n\u001b[1;32m    310\u001b[0m     this \u001b[39m+\u001b[39m\u001b[39m=\u001b[39m args[\u001b[39m0\u001b[39m],\n\u001b[1;32m    311\u001b[0m     args \u001b[39m=\u001b[39m args[\u001b[39m1\u001b[39m:]\n\u001b[0;32m--> 312\u001b[0m \u001b[39myield from\u001b[39;00m \u001b[39mself\u001b[39;49m\u001b[39m.\u001b[39;49m_plot_args(this, kwargs)\n",
      "File \u001b[0;32m~/.local/lib/python3.8/site-packages/matplotlib/axes/_base.py:498\u001b[0m, in \u001b[0;36m_process_plot_var_args._plot_args\u001b[0;34m(self, tup, kwargs, return_kwargs)\u001b[0m\n\u001b[1;32m    495\u001b[0m     \u001b[39mself\u001b[39m\u001b[39m.\u001b[39maxes\u001b[39m.\u001b[39myaxis\u001b[39m.\u001b[39mupdate_units(y)\n\u001b[1;32m    497\u001b[0m \u001b[39mif\u001b[39;00m x\u001b[39m.\u001b[39mshape[\u001b[39m0\u001b[39m] \u001b[39m!=\u001b[39m y\u001b[39m.\u001b[39mshape[\u001b[39m0\u001b[39m]:\n\u001b[0;32m--> 498\u001b[0m     \u001b[39mraise\u001b[39;00m \u001b[39mValueError\u001b[39;00m(\u001b[39mf\u001b[39m\u001b[39m\"\u001b[39m\u001b[39mx and y must have same first dimension, but \u001b[39m\u001b[39m\"\u001b[39m\n\u001b[1;32m    499\u001b[0m                      \u001b[39mf\u001b[39m\u001b[39m\"\u001b[39m\u001b[39mhave shapes \u001b[39m\u001b[39m{\u001b[39;00mx\u001b[39m.\u001b[39mshape\u001b[39m}\u001b[39;00m\u001b[39m and \u001b[39m\u001b[39m{\u001b[39;00my\u001b[39m.\u001b[39mshape\u001b[39m}\u001b[39;00m\u001b[39m\"\u001b[39m)\n\u001b[1;32m    500\u001b[0m \u001b[39mif\u001b[39;00m x\u001b[39m.\u001b[39mndim \u001b[39m>\u001b[39m \u001b[39m2\u001b[39m \u001b[39mor\u001b[39;00m y\u001b[39m.\u001b[39mndim \u001b[39m>\u001b[39m \u001b[39m2\u001b[39m:\n\u001b[1;32m    501\u001b[0m     \u001b[39mraise\u001b[39;00m \u001b[39mValueError\u001b[39;00m(\u001b[39mf\u001b[39m\u001b[39m\"\u001b[39m\u001b[39mx and y can be no greater than 2D, but have \u001b[39m\u001b[39m\"\u001b[39m\n\u001b[1;32m    502\u001b[0m                      \u001b[39mf\u001b[39m\u001b[39m\"\u001b[39m\u001b[39mshapes \u001b[39m\u001b[39m{\u001b[39;00mx\u001b[39m.\u001b[39mshape\u001b[39m}\u001b[39;00m\u001b[39m and \u001b[39m\u001b[39m{\u001b[39;00my\u001b[39m.\u001b[39mshape\u001b[39m}\u001b[39;00m\u001b[39m\"\u001b[39m)\n",
      "\u001b[0;31mValueError\u001b[0m: x and y must have same first dimension, but have shapes (50,) and (42,)"
     ]
    },
    {
     "data": {
      "image/png": "[encoded data removed]",
      "text/plain": [
       "<Figure size 1000x700 with 1 Axes>"
      ]
     },
     "metadata": {},
     "output_type": "display_data"
    }
   ],
   "source": [
    "x = np.array([0])\n",
    "y = np.array([0])\n",
    "vt = np.array([0])\n",
    "\n",
    "r = np.linspace(init,end,dtype=float, num=50)\n",
    "for i in r:\n",
    "    vx = Vx(ang=ang,vi=vi)\n",
    "    vy = Vy(ang=ang,vi=vi,t=i)\n",
    "    px = Px(vx=vx,t=i)\n",
    "    py = Py(vy=Vy(ang=ang,vi=vi,t=i, var=False),t=i)\n",
    "    if py < 0:\n",
    "        break\n",
    "    x = np.append(x,px)\n",
    "    y = np.append(y,py)\n",
    "    vt = np.append(vt,Vt(vx=vx,vy=vy))\n",
    "\n",
    "fig, ax = plt.subplots()\n",
    "fig.set_size_inches(10,7)\n",
    "ax.plot(x,y)\n",
    "ax.plot(r,vt)\n",
    "ax.set_title(\"Gráfico do Movimento y/x\")\n",
    "ax.set_xlabel(\"Posição em X\")\n",
    "ax.set_ylabel(\"Posição em Y\")\n",
    "plt.xticks(range(0, 15))\n",
    "plt.yticks(range(0, 20, 1))\n",
    "plt.show()"
   ]
  }
 ],
 "metadata": {
  "kernelspec": {
   "display_name": "Python 3.8.10 64-bit",
   "language": "python",
   "name": "python3"
  },
  "language_info": {
   "codemirror_mode": {
    "name": "ipython",
    "version": 3
   },
   "file_extension": ".py",
   "mimetype": "text/x-python",
   "name": "python",
   "nbconvert_exporter": "python",
   "pygments_lexer": "ipython3",
   "version": "3.8.10"
  },
  "orig_nbformat": 4,
  "vscode": {
   "interpreter": {
    "hash": "916dbcbb3f70747c44a77c7bcd40155683ae19c65e1c03b4aa3499c5328201f1"
   }
  }
 },
 "nbformat": 4,
 "nbformat_minor": 2
}
